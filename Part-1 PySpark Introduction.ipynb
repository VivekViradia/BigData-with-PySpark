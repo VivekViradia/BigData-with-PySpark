{
 "cells": [
  {
   "cell_type": "code",
   "execution_count": 3,
   "id": "14ddfde7",
   "metadata": {},
   "outputs": [],
   "source": [
    "import pyspark"
   ]
  },
  {
   "cell_type": "code",
   "execution_count": 13,
   "id": "39c6939d",
   "metadata": {},
   "outputs": [
    {
     "data": {
      "text/html": [
       "<div>\n",
       "<style scoped>\n",
       "    .dataframe tbody tr th:only-of-type {\n",
       "        vertical-align: middle;\n",
       "    }\n",
       "\n",
       "    .dataframe tbody tr th {\n",
       "        vertical-align: top;\n",
       "    }\n",
       "\n",
       "    .dataframe thead th {\n",
       "        text-align: right;\n",
       "    }\n",
       "</style>\n",
       "<table border=\"1\" class=\"dataframe\">\n",
       "  <thead>\n",
       "    <tr style=\"text-align: right;\">\n",
       "      <th></th>\n",
       "      <th>0</th>\n",
       "      <th>First Name</th>\n",
       "      <th>Last Name</th>\n",
       "      <th>Gender</th>\n",
       "      <th>Country</th>\n",
       "      <th>Age</th>\n",
       "      <th>Date</th>\n",
       "      <th>Id</th>\n",
       "    </tr>\n",
       "  </thead>\n",
       "  <tbody>\n",
       "    <tr>\n",
       "      <th>0</th>\n",
       "      <td>1</td>\n",
       "      <td>Dulce</td>\n",
       "      <td>Abril</td>\n",
       "      <td>Female</td>\n",
       "      <td>United States</td>\n",
       "      <td>32</td>\n",
       "      <td>15/10/2017</td>\n",
       "      <td>1562</td>\n",
       "    </tr>\n",
       "    <tr>\n",
       "      <th>1</th>\n",
       "      <td>2</td>\n",
       "      <td>Mara</td>\n",
       "      <td>Hashimoto</td>\n",
       "      <td>Female</td>\n",
       "      <td>Great Britain</td>\n",
       "      <td>25</td>\n",
       "      <td>16/08/2016</td>\n",
       "      <td>1582</td>\n",
       "    </tr>\n",
       "    <tr>\n",
       "      <th>2</th>\n",
       "      <td>3</td>\n",
       "      <td>Philip</td>\n",
       "      <td>Gent</td>\n",
       "      <td>Male</td>\n",
       "      <td>France</td>\n",
       "      <td>36</td>\n",
       "      <td>21/05/2015</td>\n",
       "      <td>2587</td>\n",
       "    </tr>\n",
       "    <tr>\n",
       "      <th>3</th>\n",
       "      <td>4</td>\n",
       "      <td>Kathleen</td>\n",
       "      <td>Hanner</td>\n",
       "      <td>Female</td>\n",
       "      <td>United States</td>\n",
       "      <td>25</td>\n",
       "      <td>15/10/2017</td>\n",
       "      <td>3549</td>\n",
       "    </tr>\n",
       "    <tr>\n",
       "      <th>4</th>\n",
       "      <td>5</td>\n",
       "      <td>Nereida</td>\n",
       "      <td>Magwood</td>\n",
       "      <td>Female</td>\n",
       "      <td>United States</td>\n",
       "      <td>58</td>\n",
       "      <td>16/08/2016</td>\n",
       "      <td>2468</td>\n",
       "    </tr>\n",
       "    <tr>\n",
       "      <th>5</th>\n",
       "      <td>6</td>\n",
       "      <td>Gaston</td>\n",
       "      <td>Brumm</td>\n",
       "      <td>Male</td>\n",
       "      <td>United States</td>\n",
       "      <td>24</td>\n",
       "      <td>21/05/2015</td>\n",
       "      <td>2554</td>\n",
       "    </tr>\n",
       "    <tr>\n",
       "      <th>6</th>\n",
       "      <td>7</td>\n",
       "      <td>Etta</td>\n",
       "      <td>Hurn</td>\n",
       "      <td>Female</td>\n",
       "      <td>Great Britain</td>\n",
       "      <td>56</td>\n",
       "      <td>15/10/2017</td>\n",
       "      <td>3598</td>\n",
       "    </tr>\n",
       "    <tr>\n",
       "      <th>7</th>\n",
       "      <td>8</td>\n",
       "      <td>Earlean</td>\n",
       "      <td>Melgar</td>\n",
       "      <td>Female</td>\n",
       "      <td>United States</td>\n",
       "      <td>27</td>\n",
       "      <td>16/08/2016</td>\n",
       "      <td>2456</td>\n",
       "    </tr>\n",
       "    <tr>\n",
       "      <th>8</th>\n",
       "      <td>9</td>\n",
       "      <td>Vincenza</td>\n",
       "      <td>Weiland</td>\n",
       "      <td>Female</td>\n",
       "      <td>United States</td>\n",
       "      <td>40</td>\n",
       "      <td>21/05/2015</td>\n",
       "      <td>6548</td>\n",
       "    </tr>\n",
       "  </tbody>\n",
       "</table>\n",
       "</div>"
      ],
      "text/plain": [
       "   0 First Name  Last Name  Gender        Country  Age        Date    Id\n",
       "0  1      Dulce      Abril  Female  United States   32  15/10/2017  1562\n",
       "1  2       Mara  Hashimoto  Female  Great Britain   25  16/08/2016  1582\n",
       "2  3     Philip       Gent    Male         France   36  21/05/2015  2587\n",
       "3  4   Kathleen     Hanner  Female  United States   25  15/10/2017  3549\n",
       "4  5    Nereida    Magwood  Female  United States   58  16/08/2016  2468\n",
       "5  6     Gaston      Brumm    Male  United States   24  21/05/2015  2554\n",
       "6  7       Etta       Hurn  Female  Great Britain   56  15/10/2017  3598\n",
       "7  8    Earlean     Melgar  Female  United States   27  16/08/2016  2456\n",
       "8  9   Vincenza    Weiland  Female  United States   40  21/05/2015  6548"
      ]
     },
     "execution_count": 13,
     "metadata": {},
     "output_type": "execute_result"
    }
   ],
   "source": [
    "import pandas as pd\n",
    "pd.read_csv('file_example.csv')"
   ]
  },
  {
   "cell_type": "markdown",
   "id": "ab246cd0",
   "metadata": {},
   "source": [
    "# Starting Pyspark session"
   ]
  },
  {
   "cell_type": "code",
   "execution_count": 5,
   "id": "643bb7b7",
   "metadata": {},
   "outputs": [],
   "source": [
    "#import session to start the pyspark session\n",
    "from pyspark.sql import SparkSession"
   ]
  },
  {
   "cell_type": "code",
   "execution_count": 6,
   "id": "f3cc5cf4",
   "metadata": {},
   "outputs": [],
   "source": [
    "#starting a session and naming it as 'Practise'\n",
    "spark = SparkSession.builder.appName('Practise').getOrCreate()"
   ]
  },
  {
   "cell_type": "code",
   "execution_count": 7,
   "id": "4604aa88",
   "metadata": {},
   "outputs": [
    {
     "data": {
      "text/html": [
       "\n",
       "            <div>\n",
       "                <p><b>SparkSession - in-memory</b></p>\n",
       "                \n",
       "        <div>\n",
       "            <p><b>SparkContext</b></p>\n",
       "\n",
       "            <p><a href=\"http://DESKTOP-145GI0U:4040\">Spark UI</a></p>\n",
       "\n",
       "            <dl>\n",
       "              <dt>Version</dt>\n",
       "                <dd><code>v3.3.0</code></dd>\n",
       "              <dt>Master</dt>\n",
       "                <dd><code>local[*]</code></dd>\n",
       "              <dt>AppName</dt>\n",
       "                <dd><code>Practise</code></dd>\n",
       "            </dl>\n",
       "        </div>\n",
       "        \n",
       "            </div>\n",
       "        "
      ],
      "text/plain": [
       "<pyspark.sql.session.SparkSession at 0x162150c4d90>"
      ]
     },
     "execution_count": 7,
     "metadata": {},
     "output_type": "execute_result"
    }
   ],
   "source": [
    "#Details of session and cluster\n",
    "spark"
   ]
  },
  {
   "cell_type": "code",
   "execution_count": 14,
   "id": "cf80d3fa",
   "metadata": {},
   "outputs": [],
   "source": [
    "#Reading the csv file using pyspark\n",
    "df_pyspark = spark.read.csv('file_example.csv')"
   ]
  },
  {
   "cell_type": "code",
   "execution_count": 15,
   "id": "1af0e872",
   "metadata": {},
   "outputs": [
    {
     "data": {
      "text/plain": [
       "DataFrame[_c0: string, _c1: string, _c2: string, _c3: string, _c4: string, _c5: string, _c6: string, _c7: string]"
      ]
     },
     "execution_count": 15,
     "metadata": {},
     "output_type": "execute_result"
    }
   ],
   "source": [
    "#columns of dataset\n",
    "#by default it takes all rows as a data entries\n",
    "df_pyspark"
   ]
  },
  {
   "cell_type": "code",
   "execution_count": 16,
   "id": "0915bde6",
   "metadata": {},
   "outputs": [
    {
     "name": "stdout",
     "output_type": "stream",
     "text": [
      "+---+----------+---------+------+-------------+---+----------+----+\n",
      "|_c0|       _c1|      _c2|   _c3|          _c4|_c5|       _c6| _c7|\n",
      "+---+----------+---------+------+-------------+---+----------+----+\n",
      "|  0|First Name|Last Name|Gender|      Country|Age|      Date|  Id|\n",
      "|  1|     Dulce|    Abril|Female|United States| 32|15/10/2017|1562|\n",
      "|  2|      Mara|Hashimoto|Female|Great Britain| 25|16/08/2016|1582|\n",
      "|  3|    Philip|     Gent|  Male|       France| 36|21/05/2015|2587|\n",
      "|  4|  Kathleen|   Hanner|Female|United States| 25|15/10/2017|3549|\n",
      "|  5|   Nereida|  Magwood|Female|United States| 58|16/08/2016|2468|\n",
      "|  6|    Gaston|    Brumm|  Male|United States| 24|21/05/2015|2554|\n",
      "|  7|      Etta|     Hurn|Female|Great Britain| 56|15/10/2017|3598|\n",
      "|  8|   Earlean|   Melgar|Female|United States| 27|16/08/2016|2456|\n",
      "|  9|  Vincenza|  Weiland|Female|United States| 40|21/05/2015|6548|\n",
      "+---+----------+---------+------+-------------+---+----------+----+\n",
      "\n"
     ]
    }
   ],
   "source": [
    "#glance at dataset\n",
    "df_pyspark.show()"
   ]
  },
  {
   "cell_type": "code",
   "execution_count": 18,
   "id": "4be047fb",
   "metadata": {},
   "outputs": [
    {
     "data": {
      "text/plain": [
       "DataFrame[0: string, First Name: string, Last Name: string, Gender: string, Country: string, Age: string, Date: string, Id: string]"
      ]
     },
     "execution_count": 18,
     "metadata": {},
     "output_type": "execute_result"
    }
   ],
   "source": [
    "#Reading the dataset with column names\n",
    "\n",
    "df_spark = spark.read.option('header','true').csv('file_example.csv')\n",
    "df_spark"
   ]
  },
  {
   "cell_type": "code",
   "execution_count": 20,
   "id": "ccdc3247",
   "metadata": {},
   "outputs": [
    {
     "name": "stdout",
     "output_type": "stream",
     "text": [
      "+---+----------+---------+------+-------------+---+----------+----+\n",
      "|  0|First Name|Last Name|Gender|      Country|Age|      Date|  Id|\n",
      "+---+----------+---------+------+-------------+---+----------+----+\n",
      "|  1|     Dulce|    Abril|Female|United States| 32|15/10/2017|1562|\n",
      "|  2|      Mara|Hashimoto|Female|Great Britain| 25|16/08/2016|1582|\n",
      "|  3|    Philip|     Gent|  Male|       France| 36|21/05/2015|2587|\n",
      "|  4|  Kathleen|   Hanner|Female|United States| 25|15/10/2017|3549|\n",
      "|  5|   Nereida|  Magwood|Female|United States| 58|16/08/2016|2468|\n",
      "|  6|    Gaston|    Brumm|  Male|United States| 24|21/05/2015|2554|\n",
      "|  7|      Etta|     Hurn|Female|Great Britain| 56|15/10/2017|3598|\n",
      "|  8|   Earlean|   Melgar|Female|United States| 27|16/08/2016|2456|\n",
      "|  9|  Vincenza|  Weiland|Female|United States| 40|21/05/2015|6548|\n",
      "+---+----------+---------+------+-------------+---+----------+----+\n",
      "\n"
     ]
    }
   ],
   "source": [
    "#glance at dataset\n",
    "df_spark.show()"
   ]
  },
  {
   "cell_type": "code",
   "execution_count": 21,
   "id": "682d7ff6",
   "metadata": {},
   "outputs": [
    {
     "data": {
      "text/plain": [
       "pyspark.sql.dataframe.DataFrame"
      ]
     },
     "execution_count": 21,
     "metadata": {},
     "output_type": "execute_result"
    }
   ],
   "source": [
    "#checking the type of df_spark\n",
    "type(df_spark)"
   ]
  },
  {
   "cell_type": "code",
   "execution_count": 23,
   "id": "048d99b0",
   "metadata": {},
   "outputs": [
    {
     "data": {
      "text/plain": [
       "[Row(0='1', First Name='Dulce', Last Name='Abril', Gender='Female', Country='United States', Age='32', Date='15/10/2017', Id='1562'),\n",
       " Row(0='2', First Name='Mara', Last Name='Hashimoto', Gender='Female', Country='Great Britain', Age='25', Date='16/08/2016', Id='1582'),\n",
       " Row(0='3', First Name='Philip', Last Name='Gent', Gender='Male', Country='France', Age='36', Date='21/05/2015', Id='2587'),\n",
       " Row(0='4', First Name='Kathleen', Last Name='Hanner', Gender='Female', Country='United States', Age='25', Date='15/10/2017', Id='3549'),\n",
       " Row(0='5', First Name='Nereida', Last Name='Magwood', Gender='Female', Country='United States', Age='58', Date='16/08/2016', Id='2468')]"
      ]
     },
     "execution_count": 23,
     "metadata": {},
     "output_type": "execute_result"
    }
   ],
   "source": [
    "#checking first 5 rows of data\n",
    "df_spark.head(5)"
   ]
  },
  {
   "cell_type": "code",
   "execution_count": 25,
   "id": "feb2e764",
   "metadata": {},
   "outputs": [
    {
     "name": "stdout",
     "output_type": "stream",
     "text": [
      "root\n",
      " |-- 0: string (nullable = true)\n",
      " |-- First Name: string (nullable = true)\n",
      " |-- Last Name: string (nullable = true)\n",
      " |-- Gender: string (nullable = true)\n",
      " |-- Country: string (nullable = true)\n",
      " |-- Age: string (nullable = true)\n",
      " |-- Date: string (nullable = true)\n",
      " |-- Id: string (nullable = true)\n",
      "\n"
     ]
    }
   ],
   "source": [
    "#checking the columns names same as df.info() in pandas\n",
    "df_spark.printSchema()"
   ]
  },
  {
   "cell_type": "code",
   "execution_count": null,
   "id": "4f16a4cc",
   "metadata": {},
   "outputs": [],
   "source": []
  },
  {
   "cell_type": "markdown",
   "id": "f021dc51",
   "metadata": {},
   "source": []
  },
  {
   "cell_type": "code",
   "execution_count": null,
   "id": "9f871e59",
   "metadata": {},
   "outputs": [],
   "source": []
  }
 ],
 "metadata": {
  "kernelspec": {
   "display_name": "Python 3 (ipykernel)",
   "language": "python",
   "name": "python3"
  },
  "language_info": {
   "codemirror_mode": {
    "name": "ipython",
    "version": 3
   },
   "file_extension": ".py",
   "mimetype": "text/x-python",
   "name": "python",
   "nbconvert_exporter": "python",
   "pygments_lexer": "ipython3",
   "version": "3.8.8"
  }
 },
 "nbformat": 4,
 "nbformat_minor": 5
}
