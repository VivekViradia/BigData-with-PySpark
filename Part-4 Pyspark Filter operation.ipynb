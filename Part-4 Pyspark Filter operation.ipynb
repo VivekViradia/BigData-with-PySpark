{
 "cells": [
  {
   "cell_type": "markdown",
   "id": "327d3bce",
   "metadata": {},
   "source": [
    "# Pyspark Dataframes\n",
    "\n",
    "Filter Operation\n",
    "\n",
    "&,|,==\n",
    "\n",
    "~"
   ]
  },
  {
   "cell_type": "code",
   "execution_count": 5,
   "id": "76e03bfe",
   "metadata": {},
   "outputs": [],
   "source": [
    "from pyspark.sql import SparkSession\n",
    "spark = SparkSession.builder.appName('Filter Operation').getOrCreate()"
   ]
  },
  {
   "cell_type": "code",
   "execution_count": 6,
   "id": "09ecb4d0",
   "metadata": {},
   "outputs": [
    {
     "data": {
      "text/html": [
       "\n",
       "            <div>\n",
       "                <p><b>SparkSession - in-memory</b></p>\n",
       "                \n",
       "        <div>\n",
       "            <p><b>SparkContext</b></p>\n",
       "\n",
       "            <p><a href=\"http://DESKTOP-145GI0U:4040\">Spark UI</a></p>\n",
       "\n",
       "            <dl>\n",
       "              <dt>Version</dt>\n",
       "                <dd><code>v3.3.0</code></dd>\n",
       "              <dt>Master</dt>\n",
       "                <dd><code>local[*]</code></dd>\n",
       "              <dt>AppName</dt>\n",
       "                <dd><code>Filter Operation</code></dd>\n",
       "            </dl>\n",
       "        </div>\n",
       "        \n",
       "            </div>\n",
       "        "
      ],
      "text/plain": [
       "<pyspark.sql.session.SparkSession at 0x18ec900d3a0>"
      ]
     },
     "execution_count": 6,
     "metadata": {},
     "output_type": "execute_result"
    }
   ],
   "source": [
    "spark"
   ]
  },
  {
   "cell_type": "markdown",
   "id": "526af5c2",
   "metadata": {},
   "source": [
    "# Loading Dataset"
   ]
  },
  {
   "cell_type": "code",
   "execution_count": 7,
   "id": "04aac847",
   "metadata": {},
   "outputs": [
    {
     "name": "stdout",
     "output_type": "stream",
     "text": [
      "+---+----------+---------+------+-------------+---+----------+----+\n",
      "|  0|First Name|Last Name|Gender|      Country|Age|      Date|  Id|\n",
      "+---+----------+---------+------+-------------+---+----------+----+\n",
      "|  1|     Dulce|    Abril|Female|United States| 32|15/10/2017|1562|\n",
      "|  2|      Mara|Hashimoto|Female|Great Britain| 25|16/08/2016|1582|\n",
      "|  3|    Philip|     Gent|  Male|       France| 36|21/05/2015|2587|\n",
      "|  4|  Kathleen|   Hanner|Female|United States| 25|15/10/2017|3549|\n",
      "|  5|   Nereida|  Magwood|Female|United States| 58|16/08/2016|2468|\n",
      "|  6|    Gaston|    Brumm|  Male|United States| 24|21/05/2015|2554|\n",
      "|  7|      Etta|     Hurn|Female|Great Britain| 56|15/10/2017|3598|\n",
      "|  8|   Earlean|   Melgar|Female|United States| 27|16/08/2016|2456|\n",
      "|  9|  Vincenza|  Weiland|Female|United States| 40|21/05/2015|6548|\n",
      "+---+----------+---------+------+-------------+---+----------+----+\n",
      "\n"
     ]
    }
   ],
   "source": [
    "df_spark = spark.read.csv('file_example.csv',header=True,inferSchema=True)\n",
    "df_spark.show()"
   ]
  },
  {
   "cell_type": "markdown",
   "id": "fd0e3bd4",
   "metadata": {},
   "source": [
    "# Filter Operation"
   ]
  },
  {
   "cell_type": "code",
   "execution_count": 10,
   "id": "3cf23773",
   "metadata": {},
   "outputs": [
    {
     "name": "stdout",
     "output_type": "stream",
     "text": [
      "+---+----------+---------+------+-------------+---+----------+----+\n",
      "|  0|First Name|Last Name|Gender|      Country|Age|      Date|  Id|\n",
      "+---+----------+---------+------+-------------+---+----------+----+\n",
      "|  5|   Nereida|  Magwood|Female|United States| 58|16/08/2016|2468|\n",
      "|  7|      Etta|     Hurn|Female|Great Britain| 56|15/10/2017|3598|\n",
      "|  9|  Vincenza|  Weiland|Female|United States| 40|21/05/2015|6548|\n",
      "+---+----------+---------+------+-------------+---+----------+----+\n",
      "\n"
     ]
    }
   ],
   "source": [
    "# Age of the people less than or equal to 40\n",
    "df_spark.filter('Age>=40').show()"
   ]
  },
  {
   "cell_type": "code",
   "execution_count": 12,
   "id": "bf68c284",
   "metadata": {},
   "outputs": [
    {
     "name": "stdout",
     "output_type": "stream",
     "text": [
      "+----------+---+\n",
      "|First Name|Age|\n",
      "+----------+---+\n",
      "|   Nereida| 58|\n",
      "|      Etta| 56|\n",
      "|  Vincenza| 40|\n",
      "+----------+---+\n",
      "\n"
     ]
    }
   ],
   "source": [
    "# Name of people have Age less than or equal to 40\n",
    "df_spark.filter('Age>=40').select(['First Name','Age']).show()"
   ]
  },
  {
   "cell_type": "code",
   "execution_count": 13,
   "id": "82258c6a",
   "metadata": {},
   "outputs": [
    {
     "name": "stdout",
     "output_type": "stream",
     "text": [
      "+---+----------+---------+------+-------------+---+----------+----+\n",
      "|  0|First Name|Last Name|Gender|      Country|Age|      Date|  Id|\n",
      "+---+----------+---------+------+-------------+---+----------+----+\n",
      "|  1|     Dulce|    Abril|Female|United States| 32|15/10/2017|1562|\n",
      "|  2|      Mara|Hashimoto|Female|Great Britain| 25|16/08/2016|1582|\n",
      "|  3|    Philip|     Gent|  Male|       France| 36|21/05/2015|2587|\n",
      "|  4|  Kathleen|   Hanner|Female|United States| 25|15/10/2017|3549|\n",
      "|  5|   Nereida|  Magwood|Female|United States| 58|16/08/2016|2468|\n",
      "|  6|    Gaston|    Brumm|  Male|United States| 24|21/05/2015|2554|\n",
      "|  7|      Etta|     Hurn|Female|Great Britain| 56|15/10/2017|3598|\n",
      "|  8|   Earlean|   Melgar|Female|United States| 27|16/08/2016|2456|\n",
      "|  9|  Vincenza|  Weiland|Female|United States| 40|21/05/2015|6548|\n",
      "+---+----------+---------+------+-------------+---+----------+----+\n",
      "\n"
     ]
    }
   ],
   "source": [
    "df_spark.filter(df_spark['Age']>=20).show()"
   ]
  },
  {
   "cell_type": "code",
   "execution_count": 22,
   "id": "e059200b",
   "metadata": {},
   "outputs": [
    {
     "ename": "TypeError",
     "evalue": "unsupported operand type(s) for &: 'str' and 'str'",
     "output_type": "error",
     "traceback": [
      "\u001b[1;31m---------------------------------------------------------------------------\u001b[0m",
      "\u001b[1;31mTypeError\u001b[0m                                 Traceback (most recent call last)",
      "Cell \u001b[1;32mIn [22], line 2\u001b[0m\n\u001b[0;32m      1\u001b[0m \u001b[38;5;66;03m## 2 Different Condition\u001b[39;00m\n\u001b[1;32m----> 2\u001b[0m df_spark\u001b[38;5;241m.\u001b[39mfilter((\u001b[38;5;124m'\u001b[39m\u001b[38;5;124mAge>=40\u001b[39m\u001b[38;5;124m'\u001b[39m) \u001b[38;5;241m&\u001b[39m (\u001b[38;5;124m'\u001b[39m\u001b[38;5;124mGender==Female\u001b[39m\u001b[38;5;124m'\u001b[39m))\u001b[38;5;241m.\u001b[39mshow()\n",
      "\u001b[1;31mTypeError\u001b[0m: unsupported operand type(s) for &: 'str' and 'str'"
     ]
    }
   ],
   "source": [
    "## 2 Different Condition\n",
    "df_spark.filter(('Age>=40') & ('Gender==Female')).show()"
   ]
  },
  {
   "cell_type": "code",
   "execution_count": 24,
   "id": "f85ffed6",
   "metadata": {},
   "outputs": [
    {
     "name": "stdout",
     "output_type": "stream",
     "text": [
      "+---+----------+---------+------+-------------+---+----------+----+\n",
      "|  0|First Name|Last Name|Gender|      Country|Age|      Date|  Id|\n",
      "+---+----------+---------+------+-------------+---+----------+----+\n",
      "|  1|     Dulce|    Abril|Female|United States| 32|15/10/2017|1562|\n",
      "|  2|      Mara|Hashimoto|Female|Great Britain| 25|16/08/2016|1582|\n",
      "|  4|  Kathleen|   Hanner|Female|United States| 25|15/10/2017|3549|\n",
      "|  5|   Nereida|  Magwood|Female|United States| 58|16/08/2016|2468|\n",
      "|  7|      Etta|     Hurn|Female|Great Britain| 56|15/10/2017|3598|\n",
      "|  8|   Earlean|   Melgar|Female|United States| 27|16/08/2016|2456|\n",
      "|  9|  Vincenza|  Weiland|Female|United States| 40|21/05/2015|6548|\n",
      "+---+----------+---------+------+-------------+---+----------+----+\n",
      "\n"
     ]
    }
   ],
   "source": [
    "## 2 Different Condition (AND, &)\n",
    "df_spark.filter((df_spark['Age']>=20) & (df_spark['Gender']=='Female')).show()"
   ]
  },
  {
   "cell_type": "code",
   "execution_count": 25,
   "id": "6b8a09d1",
   "metadata": {},
   "outputs": [
    {
     "name": "stdout",
     "output_type": "stream",
     "text": [
      "+---+----------+---------+------+-------------+---+----------+----+\n",
      "|  0|First Name|Last Name|Gender|      Country|Age|      Date|  Id|\n",
      "+---+----------+---------+------+-------------+---+----------+----+\n",
      "|  1|     Dulce|    Abril|Female|United States| 32|15/10/2017|1562|\n",
      "|  2|      Mara|Hashimoto|Female|Great Britain| 25|16/08/2016|1582|\n",
      "|  3|    Philip|     Gent|  Male|       France| 36|21/05/2015|2587|\n",
      "|  4|  Kathleen|   Hanner|Female|United States| 25|15/10/2017|3549|\n",
      "|  5|   Nereida|  Magwood|Female|United States| 58|16/08/2016|2468|\n",
      "|  6|    Gaston|    Brumm|  Male|United States| 24|21/05/2015|2554|\n",
      "|  7|      Etta|     Hurn|Female|Great Britain| 56|15/10/2017|3598|\n",
      "|  8|   Earlean|   Melgar|Female|United States| 27|16/08/2016|2456|\n",
      "|  9|  Vincenza|  Weiland|Female|United States| 40|21/05/2015|6548|\n",
      "+---+----------+---------+------+-------------+---+----------+----+\n",
      "\n"
     ]
    }
   ],
   "source": [
    "## 2 Different Condition (OR, |)\n",
    "df_spark.filter((df_spark['Age']>=20) | (df_spark['Gender']=='Female')).show()"
   ]
  },
  {
   "cell_type": "code",
   "execution_count": 27,
   "id": "b36aa426",
   "metadata": {},
   "outputs": [
    {
     "name": "stdout",
     "output_type": "stream",
     "text": [
      "+---+----------+---------+------+-------------+---+----------+----+\n",
      "|  0|First Name|Last Name|Gender|      Country|Age|      Date|  Id|\n",
      "+---+----------+---------+------+-------------+---+----------+----+\n",
      "|  3|    Philip|     Gent|  Male|       France| 36|21/05/2015|2587|\n",
      "|  6|    Gaston|    Brumm|  Male|United States| 24|21/05/2015|2554|\n",
      "+---+----------+---------+------+-------------+---+----------+----+\n",
      "\n"
     ]
    }
   ],
   "source": [
    "## 2 Different Condition (NOT , ~)\n",
    "df_spark.filter((df_spark['Age']>=20) & ~(df_spark['Gender']=='Female')).show()"
   ]
  },
  {
   "cell_type": "code",
   "execution_count": null,
   "id": "b200dc3f",
   "metadata": {},
   "outputs": [],
   "source": []
  },
  {
   "cell_type": "code",
   "execution_count": null,
   "id": "7e1ff2dc",
   "metadata": {},
   "outputs": [],
   "source": []
  },
  {
   "cell_type": "code",
   "execution_count": null,
   "id": "62b729ec",
   "metadata": {},
   "outputs": [],
   "source": []
  }
 ],
 "metadata": {
  "kernelspec": {
   "display_name": "Python 3 (ipykernel)",
   "language": "python",
   "name": "python3"
  },
  "language_info": {
   "codemirror_mode": {
    "name": "ipython",
    "version": 3
   },
   "file_extension": ".py",
   "mimetype": "text/x-python",
   "name": "python",
   "nbconvert_exporter": "python",
   "pygments_lexer": "ipython3",
   "version": "3.8.8"
  }
 },
 "nbformat": 4,
 "nbformat_minor": 5
}
