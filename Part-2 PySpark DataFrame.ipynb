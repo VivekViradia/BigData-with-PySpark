{
 "cells": [
  {
   "cell_type": "markdown",
   "id": "b829ff29",
   "metadata": {},
   "source": [
    "# Dealing With DataFrame\n",
    "\n",
    "PySpark Dataframe\n",
    "\n",
    "Reading The Dataset\n",
    "\n",
    "Checking the Datatypes of the Column(Schema)\n",
    "\n",
    "Selecting Columns And Indexing\n",
    "\n",
    "Check Describe option similar to Pandas\n",
    "\n",
    "Adding Columns\n",
    "\n",
    "Dropping columns\n",
    "\n",
    "Renaming Columns"
   ]
  },
  {
   "cell_type": "code",
   "execution_count": 2,
   "id": "8404c25c",
   "metadata": {},
   "outputs": [],
   "source": [
    "from pyspark.sql import SparkSession"
   ]
  },
  {
   "cell_type": "code",
   "execution_count": 3,
   "id": "ddd32401",
   "metadata": {},
   "outputs": [],
   "source": [
    "spark = SparkSession.builder.appName('DataFrame').getOrCreate()"
   ]
  },
  {
   "cell_type": "code",
   "execution_count": 4,
   "id": "50e3b95d",
   "metadata": {},
   "outputs": [
    {
     "data": {
      "text/html": [
       "\n",
       "            <div>\n",
       "                <p><b>SparkSession - in-memory</b></p>\n",
       "                \n",
       "        <div>\n",
       "            <p><b>SparkContext</b></p>\n",
       "\n",
       "            <p><a href=\"http://DESKTOP-145GI0U:4041\">Spark UI</a></p>\n",
       "\n",
       "            <dl>\n",
       "              <dt>Version</dt>\n",
       "                <dd><code>v3.3.0</code></dd>\n",
       "              <dt>Master</dt>\n",
       "                <dd><code>local[*]</code></dd>\n",
       "              <dt>AppName</dt>\n",
       "                <dd><code>DataFrame</code></dd>\n",
       "            </dl>\n",
       "        </div>\n",
       "        \n",
       "            </div>\n",
       "        "
      ],
      "text/plain": [
       "<pyspark.sql.session.SparkSession at 0x206ddc23220>"
      ]
     },
     "execution_count": 4,
     "metadata": {},
     "output_type": "execute_result"
    }
   ],
   "source": [
    "spark"
   ]
  },
  {
   "cell_type": "code",
   "execution_count": 11,
   "id": "36a941f4",
   "metadata": {},
   "outputs": [
    {
     "name": "stdout",
     "output_type": "stream",
     "text": [
      "+---+----------+---------+------+-------------+---+----------+----+\n",
      "|  0|First Name|Last Name|Gender|      Country|Age|      Date|  Id|\n",
      "+---+----------+---------+------+-------------+---+----------+----+\n",
      "|  1|     Dulce|    Abril|Female|United States| 32|15/10/2017|1562|\n",
      "|  2|      Mara|Hashimoto|Female|Great Britain| 25|16/08/2016|1582|\n",
      "|  3|    Philip|     Gent|  Male|       France| 36|21/05/2015|2587|\n",
      "|  4|  Kathleen|   Hanner|Female|United States| 25|15/10/2017|3549|\n",
      "|  5|   Nereida|  Magwood|Female|United States| 58|16/08/2016|2468|\n",
      "|  6|    Gaston|    Brumm|  Male|United States| 24|21/05/2015|2554|\n",
      "|  7|      Etta|     Hurn|Female|Great Britain| 56|15/10/2017|3598|\n",
      "|  8|   Earlean|   Melgar|Female|United States| 27|16/08/2016|2456|\n",
      "|  9|  Vincenza|  Weiland|Female|United States| 40|21/05/2015|6548|\n",
      "+---+----------+---------+------+-------------+---+----------+----+\n",
      "\n"
     ]
    }
   ],
   "source": [
    "## reading the dataset\n",
    "## Unless we give inferschema=True, it will take all values as String\n",
    "df_spark = spark.read.option('header','true').csv('file_example.csv',inferSchema=True)\n",
    "df_spark.show()"
   ]
  },
  {
   "cell_type": "code",
   "execution_count": 12,
   "id": "3e98cbc4",
   "metadata": {},
   "outputs": [
    {
     "name": "stdout",
     "output_type": "stream",
     "text": [
      "root\n",
      " |-- 0: integer (nullable = true)\n",
      " |-- First Name: string (nullable = true)\n",
      " |-- Last Name: string (nullable = true)\n",
      " |-- Gender: string (nullable = true)\n",
      " |-- Country: string (nullable = true)\n",
      " |-- Age: integer (nullable = true)\n",
      " |-- Date: string (nullable = true)\n",
      " |-- Id: integer (nullable = true)\n",
      "\n"
     ]
    }
   ],
   "source": [
    "## check the schema\n",
    "df_spark.printSchema()"
   ]
  },
  {
   "cell_type": "code",
   "execution_count": 13,
   "id": "35821db4",
   "metadata": {},
   "outputs": [
    {
     "name": "stdout",
     "output_type": "stream",
     "text": [
      "+---+----------+---------+------+-------------+---+----------+----+\n",
      "|  0|First Name|Last Name|Gender|      Country|Age|      Date|  Id|\n",
      "+---+----------+---------+------+-------------+---+----------+----+\n",
      "|  1|     Dulce|    Abril|Female|United States| 32|15/10/2017|1562|\n",
      "|  2|      Mara|Hashimoto|Female|Great Britain| 25|16/08/2016|1582|\n",
      "|  3|    Philip|     Gent|  Male|       France| 36|21/05/2015|2587|\n",
      "|  4|  Kathleen|   Hanner|Female|United States| 25|15/10/2017|3549|\n",
      "|  5|   Nereida|  Magwood|Female|United States| 58|16/08/2016|2468|\n",
      "|  6|    Gaston|    Brumm|  Male|United States| 24|21/05/2015|2554|\n",
      "|  7|      Etta|     Hurn|Female|Great Britain| 56|15/10/2017|3598|\n",
      "|  8|   Earlean|   Melgar|Female|United States| 27|16/08/2016|2456|\n",
      "|  9|  Vincenza|  Weiland|Female|United States| 40|21/05/2015|6548|\n",
      "+---+----------+---------+------+-------------+---+----------+----+\n",
      "\n"
     ]
    }
   ],
   "source": [
    "## Another way to read dataframe\n",
    "df_spark = spark.read.csv('file_example.csv',header=True,inferSchema=True)\n",
    "df_spark.show()"
   ]
  },
  {
   "cell_type": "code",
   "execution_count": 14,
   "id": "672cb2bc",
   "metadata": {},
   "outputs": [
    {
     "name": "stdout",
     "output_type": "stream",
     "text": [
      "root\n",
      " |-- 0: integer (nullable = true)\n",
      " |-- First Name: string (nullable = true)\n",
      " |-- Last Name: string (nullable = true)\n",
      " |-- Gender: string (nullable = true)\n",
      " |-- Country: string (nullable = true)\n",
      " |-- Age: integer (nullable = true)\n",
      " |-- Date: string (nullable = true)\n",
      " |-- Id: integer (nullable = true)\n",
      "\n"
     ]
    }
   ],
   "source": [
    "## check the schema\n",
    "df_spark.printSchema()"
   ]
  },
  {
   "cell_type": "code",
   "execution_count": 15,
   "id": "fc32c604",
   "metadata": {},
   "outputs": [
    {
     "data": {
      "text/plain": [
       "pyspark.sql.dataframe.DataFrame"
      ]
     },
     "execution_count": 15,
     "metadata": {},
     "output_type": "execute_result"
    }
   ],
   "source": [
    "type(df_spark)"
   ]
  },
  {
   "cell_type": "markdown",
   "id": "c0a293a9",
   "metadata": {},
   "source": [
    "# Selecting Columns And Indexing"
   ]
  },
  {
   "cell_type": "code",
   "execution_count": 17,
   "id": "4f2b5adf",
   "metadata": {},
   "outputs": [
    {
     "data": {
      "text/plain": [
       "['0', 'First Name', 'Last Name', 'Gender', 'Country', 'Age', 'Date', 'Id']"
      ]
     },
     "execution_count": 17,
     "metadata": {},
     "output_type": "execute_result"
    }
   ],
   "source": [
    "#columns of data frame\n",
    "df_spark.columns"
   ]
  },
  {
   "cell_type": "code",
   "execution_count": 20,
   "id": "3b95d3ea",
   "metadata": {},
   "outputs": [
    {
     "data": {
      "text/plain": [
       "[Row(0=1, First Name='Dulce', Last Name='Abril', Gender='Female', Country='United States', Age=32, Date='15/10/2017', Id=1562),\n",
       " Row(0=2, First Name='Mara', Last Name='Hashimoto', Gender='Female', Country='Great Britain', Age=25, Date='16/08/2016', Id=1582),\n",
       " Row(0=3, First Name='Philip', Last Name='Gent', Gender='Male', Country='France', Age=36, Date='21/05/2015', Id=2587),\n",
       " Row(0=4, First Name='Kathleen', Last Name='Hanner', Gender='Female', Country='United States', Age=25, Date='15/10/2017', Id=3549),\n",
       " Row(0=5, First Name='Nereida', Last Name='Magwood', Gender='Female', Country='United States', Age=58, Date='16/08/2016', Id=2468)]"
      ]
     },
     "execution_count": 20,
     "metadata": {},
     "output_type": "execute_result"
    }
   ],
   "source": [
    "#first 5 entries, in list format\n",
    "df_spark.head(5)"
   ]
  },
  {
   "cell_type": "markdown",
   "id": "b2c50e70",
   "metadata": {},
   "source": [
    "## Indexing"
   ]
  },
  {
   "cell_type": "code",
   "execution_count": 22,
   "id": "04f5a595",
   "metadata": {},
   "outputs": [
    {
     "name": "stdout",
     "output_type": "stream",
     "text": [
      "+----------+\n",
      "|First Name|\n",
      "+----------+\n",
      "|     Dulce|\n",
      "|      Mara|\n",
      "|    Philip|\n",
      "|  Kathleen|\n",
      "|   Nereida|\n",
      "|    Gaston|\n",
      "|      Etta|\n",
      "|   Earlean|\n",
      "|  Vincenza|\n",
      "+----------+\n",
      "\n"
     ]
    }
   ],
   "source": [
    "#selecting the column\n",
    "df_spark.select('First Name').show()"
   ]
  },
  {
   "cell_type": "code",
   "execution_count": 23,
   "id": "53acf97f",
   "metadata": {},
   "outputs": [
    {
     "name": "stdout",
     "output_type": "stream",
     "text": [
      "+----------+---------+\n",
      "|First Name|Last Name|\n",
      "+----------+---------+\n",
      "|     Dulce|    Abril|\n",
      "|      Mara|Hashimoto|\n",
      "|    Philip|     Gent|\n",
      "|  Kathleen|   Hanner|\n",
      "|   Nereida|  Magwood|\n",
      "|    Gaston|    Brumm|\n",
      "|      Etta|     Hurn|\n",
      "|   Earlean|   Melgar|\n",
      "|  Vincenza|  Weiland|\n",
      "+----------+---------+\n",
      "\n"
     ]
    }
   ],
   "source": [
    "#multiple columns\n",
    "df_spark.select(['First Name','Last Name']).show()"
   ]
  },
  {
   "cell_type": "code",
   "execution_count": 25,
   "id": "61459ca3",
   "metadata": {},
   "outputs": [
    {
     "data": {
      "text/plain": [
       "Column<'First Name'>"
      ]
     },
     "execution_count": 25,
     "metadata": {},
     "output_type": "execute_result"
    }
   ],
   "source": [
    "df_spark['First Name']"
   ]
  },
  {
   "cell_type": "markdown",
   "id": "e9996f92",
   "metadata": {},
   "source": [
    "## Checking Datatype"
   ]
  },
  {
   "cell_type": "code",
   "execution_count": 30,
   "id": "f0018135",
   "metadata": {},
   "outputs": [
    {
     "data": {
      "text/plain": [
       "[('0', 'int'),\n",
       " ('First Name', 'string'),\n",
       " ('Last Name', 'string'),\n",
       " ('Gender', 'string'),\n",
       " ('Country', 'string'),\n",
       " ('Age', 'int'),\n",
       " ('Date', 'string'),\n",
       " ('Id', 'int')]"
      ]
     },
     "execution_count": 30,
     "metadata": {},
     "output_type": "execute_result"
    }
   ],
   "source": [
    "#datatype\n",
    "df_spark.dtypes"
   ]
  },
  {
   "cell_type": "code",
   "execution_count": 34,
   "id": "9a181b53",
   "metadata": {},
   "outputs": [
    {
     "name": "stdout",
     "output_type": "stream",
     "text": [
      "+-------+------------------+----------+---------+------+-------------+------------------+----------+------------------+\n",
      "|summary|                 0|First Name|Last Name|Gender|      Country|               Age|      Date|                Id|\n",
      "+-------+------------------+----------+---------+------+-------------+------------------+----------+------------------+\n",
      "|  count|                 9|         9|        9|     9|            9|                 9|         9|                 9|\n",
      "|   mean|               5.0|      null|     null|  null|         null|35.888888888888886|      null|2989.3333333333335|\n",
      "| stddev|2.7386127875258306|      null|     null|  null|         null| 13.14766561451542|      null|1511.3445173090086|\n",
      "|    min|                 1|     Dulce|    Abril|Female|       France|                24|15/10/2017|              1562|\n",
      "|    max|                 9|  Vincenza|  Weiland|  Male|United States|                58|21/05/2015|              6548|\n",
      "+-------+------------------+----------+---------+------+-------------+------------------+----------+------------------+\n",
      "\n"
     ]
    }
   ],
   "source": [
    "#statical of dataframe\n",
    "df_spark.describe().show()"
   ]
  },
  {
   "cell_type": "code",
   "execution_count": 37,
   "id": "365036e2",
   "metadata": {},
   "outputs": [
    {
     "name": "stdout",
     "output_type": "stream",
     "text": [
      "+---+----------+---------+------+-------------+---+----------+----+-----------------+\n",
      "|  0|First Name|Last Name|Gender|      Country|Age|      Date|  Id|Age after 2 years|\n",
      "+---+----------+---------+------+-------------+---+----------+----+-----------------+\n",
      "|  1|     Dulce|    Abril|Female|United States| 32|15/10/2017|1562|               34|\n",
      "|  2|      Mara|Hashimoto|Female|Great Britain| 25|16/08/2016|1582|               27|\n",
      "|  3|    Philip|     Gent|  Male|       France| 36|21/05/2015|2587|               38|\n",
      "|  4|  Kathleen|   Hanner|Female|United States| 25|15/10/2017|3549|               27|\n",
      "|  5|   Nereida|  Magwood|Female|United States| 58|16/08/2016|2468|               60|\n",
      "|  6|    Gaston|    Brumm|  Male|United States| 24|21/05/2015|2554|               26|\n",
      "|  7|      Etta|     Hurn|Female|Great Britain| 56|15/10/2017|3598|               58|\n",
      "|  8|   Earlean|   Melgar|Female|United States| 27|16/08/2016|2456|               29|\n",
      "|  9|  Vincenza|  Weiland|Female|United States| 40|21/05/2015|6548|               42|\n",
      "+---+----------+---------+------+-------------+---+----------+----+-----------------+\n",
      "\n"
     ]
    }
   ],
   "source": [
    "# adding columns in dataframe\n",
    "df_spark.withColumn('Age after 2 years',df_spark['Age']+2).show()"
   ]
  },
  {
   "cell_type": "code",
   "execution_count": 39,
   "id": "f1bda196",
   "metadata": {},
   "outputs": [
    {
     "name": "stdout",
     "output_type": "stream",
     "text": [
      "+---+----------+---------+------+-------------+---+----------+----+-----------------+\n",
      "|  0|First Name|Last Name|Gender|      Country|Age|      Date|  Id|Age after 2 years|\n",
      "+---+----------+---------+------+-------------+---+----------+----+-----------------+\n",
      "|  1|     Dulce|    Abril|Female|United States| 32|15/10/2017|1562|               34|\n",
      "|  2|      Mara|Hashimoto|Female|Great Britain| 25|16/08/2016|1582|               27|\n",
      "|  3|    Philip|     Gent|  Male|       France| 36|21/05/2015|2587|               38|\n",
      "|  4|  Kathleen|   Hanner|Female|United States| 25|15/10/2017|3549|               27|\n",
      "|  5|   Nereida|  Magwood|Female|United States| 58|16/08/2016|2468|               60|\n",
      "|  6|    Gaston|    Brumm|  Male|United States| 24|21/05/2015|2554|               26|\n",
      "|  7|      Etta|     Hurn|Female|Great Britain| 56|15/10/2017|3598|               58|\n",
      "|  8|   Earlean|   Melgar|Female|United States| 27|16/08/2016|2456|               29|\n",
      "|  9|  Vincenza|  Weiland|Female|United States| 40|21/05/2015|6548|               42|\n",
      "+---+----------+---------+------+-------------+---+----------+----+-----------------+\n",
      "\n"
     ]
    }
   ],
   "source": [
    "#adding into dataframe\n",
    "df_spark = df_spark.withColumn('Age after 2 years',df_spark['Age']+2)\n",
    "df_spark.show()"
   ]
  },
  {
   "cell_type": "code",
   "execution_count": 40,
   "id": "69249a39",
   "metadata": {},
   "outputs": [
    {
     "name": "stdout",
     "output_type": "stream",
     "text": [
      "+---+----------+---------+------+-------------+---+----------+----+\n",
      "|  0|First Name|Last Name|Gender|      Country|Age|      Date|  Id|\n",
      "+---+----------+---------+------+-------------+---+----------+----+\n",
      "|  1|     Dulce|    Abril|Female|United States| 32|15/10/2017|1562|\n",
      "|  2|      Mara|Hashimoto|Female|Great Britain| 25|16/08/2016|1582|\n",
      "|  3|    Philip|     Gent|  Male|       France| 36|21/05/2015|2587|\n",
      "|  4|  Kathleen|   Hanner|Female|United States| 25|15/10/2017|3549|\n",
      "|  5|   Nereida|  Magwood|Female|United States| 58|16/08/2016|2468|\n",
      "|  6|    Gaston|    Brumm|  Male|United States| 24|21/05/2015|2554|\n",
      "|  7|      Etta|     Hurn|Female|Great Britain| 56|15/10/2017|3598|\n",
      "|  8|   Earlean|   Melgar|Female|United States| 27|16/08/2016|2456|\n",
      "|  9|  Vincenza|  Weiland|Female|United States| 40|21/05/2015|6548|\n",
      "+---+----------+---------+------+-------------+---+----------+----+\n",
      "\n"
     ]
    }
   ],
   "source": [
    "#droping columns\n",
    "df_spark.drop('Age after 2 years').show()"
   ]
  },
  {
   "cell_type": "code",
   "execution_count": 41,
   "id": "9d52f3e8",
   "metadata": {},
   "outputs": [
    {
     "name": "stdout",
     "output_type": "stream",
     "text": [
      "+---+----------+---------+------+-------------+---+----------+----+\n",
      "|  0|First Name|Last Name|Gender|      Country|Age|      Date|  Id|\n",
      "+---+----------+---------+------+-------------+---+----------+----+\n",
      "|  1|     Dulce|    Abril|Female|United States| 32|15/10/2017|1562|\n",
      "|  2|      Mara|Hashimoto|Female|Great Britain| 25|16/08/2016|1582|\n",
      "|  3|    Philip|     Gent|  Male|       France| 36|21/05/2015|2587|\n",
      "|  4|  Kathleen|   Hanner|Female|United States| 25|15/10/2017|3549|\n",
      "|  5|   Nereida|  Magwood|Female|United States| 58|16/08/2016|2468|\n",
      "|  6|    Gaston|    Brumm|  Male|United States| 24|21/05/2015|2554|\n",
      "|  7|      Etta|     Hurn|Female|Great Britain| 56|15/10/2017|3598|\n",
      "|  8|   Earlean|   Melgar|Female|United States| 27|16/08/2016|2456|\n",
      "|  9|  Vincenza|  Weiland|Female|United States| 40|21/05/2015|6548|\n",
      "+---+----------+---------+------+-------------+---+----------+----+\n",
      "\n"
     ]
    }
   ],
   "source": [
    "#change in dataframe\n",
    "df_spark = df_spark.drop('Age after 2 years')\n",
    "df_spark.show()"
   ]
  },
  {
   "cell_type": "code",
   "execution_count": 42,
   "id": "532d81b9",
   "metadata": {},
   "outputs": [
    {
     "name": "stdout",
     "output_type": "stream",
     "text": [
      "+---+----------+---------+------+-------------+---+----------+----+\n",
      "|  0|First Name|Last Name|   Sex|      Country|Age|      Date|  Id|\n",
      "+---+----------+---------+------+-------------+---+----------+----+\n",
      "|  1|     Dulce|    Abril|Female|United States| 32|15/10/2017|1562|\n",
      "|  2|      Mara|Hashimoto|Female|Great Britain| 25|16/08/2016|1582|\n",
      "|  3|    Philip|     Gent|  Male|       France| 36|21/05/2015|2587|\n",
      "|  4|  Kathleen|   Hanner|Female|United States| 25|15/10/2017|3549|\n",
      "|  5|   Nereida|  Magwood|Female|United States| 58|16/08/2016|2468|\n",
      "|  6|    Gaston|    Brumm|  Male|United States| 24|21/05/2015|2554|\n",
      "|  7|      Etta|     Hurn|Female|Great Britain| 56|15/10/2017|3598|\n",
      "|  8|   Earlean|   Melgar|Female|United States| 27|16/08/2016|2456|\n",
      "|  9|  Vincenza|  Weiland|Female|United States| 40|21/05/2015|6548|\n",
      "+---+----------+---------+------+-------------+---+----------+----+\n",
      "\n"
     ]
    }
   ],
   "source": [
    "#rename the columns\n",
    "df_spark.withColumnRenamed('Gender','Sex').show()"
   ]
  },
  {
   "cell_type": "code",
   "execution_count": null,
   "id": "c0a0367e",
   "metadata": {},
   "outputs": [],
   "source": []
  }
 ],
 "metadata": {
  "kernelspec": {
   "display_name": "Python 3 (ipykernel)",
   "language": "python",
   "name": "python3"
  },
  "language_info": {
   "codemirror_mode": {
    "name": "ipython",
    "version": 3
   },
   "file_extension": ".py",
   "mimetype": "text/x-python",
   "name": "python",
   "nbconvert_exporter": "python",
   "pygments_lexer": "ipython3",
   "version": "3.8.8"
  }
 },
 "nbformat": 4,
 "nbformat_minor": 5
}
